{
 "cells": [
  {
   "cell_type": "markdown",
   "metadata": {},
   "source": [
    "### Imports necesarios y carga de datos"
   ]
  },
  {
   "cell_type": "code",
   "execution_count": 28,
   "metadata": {},
   "outputs": [],
   "source": [
    "import numpy as np\n",
    "import matplotlib.pyplot as plt\n",
    "import pandas as pd\n",
    "import seaborn as sns\n",
    "from sklearn import svm, datasets\n",
    "from sklearn.model_selection import train_test_split\n",
    "import scipy.stats as scp\n",
    "from sklearn import preprocessing\n",
    "from sklearn.datasets import make_regression\n",
    "from sklearn.model_selection import train_test_split\n",
    "from sklearn import linear_model\n",
    "from sklearn.metrics import mean_absolute_error, mean_squared_error, r2_score\n",
    "from sklearn import preprocessing"
   ]
  },
  {
   "cell_type": "code",
   "execution_count": 3,
   "metadata": {},
   "outputs": [],
   "source": [
    "#Se crea la función load_dataset y cargaremos los datasets referentes a reseñas de ebay abriendo los ficheros csv\n",
    "def load_dataset(path):\n",
    "    dataset = pd.read_csv(path, header=0, delimiter=',')\n",
    "    return dataset\n",
    "\n",
    "datasetEbay = load_dataset('../../data/sample/ebay_reviews.csv')\n",
    "\n",
    "datasetCleaned = load_dataset('../../data/sample/ebay_reviews_cleaned.csv')"
   ]
  },
  {
   "cell_type": "markdown",
   "metadata": {},
   "source": [
    "### Analisis de datos"
   ]
  },
  {
   "cell_type": "code",
   "execution_count": 7,
   "metadata": {},
   "outputs": [
    {
     "name": "stdout",
     "output_type": "stream",
     "text": [
      "Primeros 5 valores de la base de datos:\n"
     ]
    },
    {
     "data": {
      "text/html": [
       "<div>\n",
       "<style scoped>\n",
       "    .dataframe tbody tr th:only-of-type {\n",
       "        vertical-align: middle;\n",
       "    }\n",
       "\n",
       "    .dataframe tbody tr th {\n",
       "        vertical-align: top;\n",
       "    }\n",
       "\n",
       "    .dataframe thead th {\n",
       "        text-align: right;\n",
       "    }\n",
       "</style>\n",
       "<table border=\"1\" class=\"dataframe\">\n",
       "  <thead>\n",
       "    <tr style=\"text-align: right;\">\n",
       "      <th></th>\n",
       "      <th>category</th>\n",
       "      <th>review title</th>\n",
       "      <th>review content</th>\n",
       "      <th>rating</th>\n",
       "    </tr>\n",
       "  </thead>\n",
       "  <tbody>\n",
       "    <tr>\n",
       "      <th>0</th>\n",
       "      <td>Headsets</td>\n",
       "      <td>Wireless gaming headset</td>\n",
       "      <td>This gaming headset ticks all the boxes # look...</td>\n",
       "      <td>5</td>\n",
       "    </tr>\n",
       "    <tr>\n",
       "      <th>1</th>\n",
       "      <td>Headsets</td>\n",
       "      <td>Good for those with a big head, low budget</td>\n",
       "      <td>Easy setup, rated for 6 hours battery but mine...</td>\n",
       "      <td>3</td>\n",
       "    </tr>\n",
       "    <tr>\n",
       "      <th>2</th>\n",
       "      <td>Headsets</td>\n",
       "      <td>MezumiWireless Gaming Headset</td>\n",
       "      <td>I originally bought this wireless headset for ...</td>\n",
       "      <td>5</td>\n",
       "    </tr>\n",
       "    <tr>\n",
       "      <th>3</th>\n",
       "      <td>Headsets</td>\n",
       "      <td>HW- S2 great headset.</td>\n",
       "      <td>This is my 2nd Mezumi headset, It kills the fi...</td>\n",
       "      <td>5</td>\n",
       "    </tr>\n",
       "    <tr>\n",
       "      <th>4</th>\n",
       "      <td>Headsets</td>\n",
       "      <td>BEST HEADPHONES I'VE PURCHASED IN MY ENTIRE LIFE</td>\n",
       "      <td>This is probably the best headset I've purchas...</td>\n",
       "      <td>5</td>\n",
       "    </tr>\n",
       "  </tbody>\n",
       "</table>\n",
       "</div>"
      ],
      "text/plain": [
       "   category                                      review title  \\\n",
       "0  Headsets                          Wireless gaming headset    \n",
       "1  Headsets        Good for those with a big head, low budget   \n",
       "2  Headsets                     MezumiWireless Gaming Headset   \n",
       "3  Headsets                             HW- S2 great headset.   \n",
       "4  Headsets  BEST HEADPHONES I'VE PURCHASED IN MY ENTIRE LIFE   \n",
       "\n",
       "                                      review content  rating  \n",
       "0  This gaming headset ticks all the boxes # look...       5  \n",
       "1  Easy setup, rated for 6 hours battery but mine...       3  \n",
       "2  I originally bought this wireless headset for ...       5  \n",
       "3  This is my 2nd Mezumi headset, It kills the fi...       5  \n",
       "4  This is probably the best headset I've purchas...       5  "
      ]
     },
     "execution_count": 7,
     "metadata": {},
     "output_type": "execute_result"
    }
   ],
   "source": [
    "print(\"Primeros 5 valores de la base de datos Ebay:\")\n",
    "datasetEbay.head()\n"
   ]
  },
  {
   "cell_type": "code",
   "execution_count": 8,
   "metadata": {},
   "outputs": [
    {
     "name": "stdout",
     "output_type": "stream",
     "text": [
      "Primeros 5 valores de la base de datos Clean:\n"
     ]
    },
    {
     "data": {
      "text/html": [
       "<div>\n",
       "<style scoped>\n",
       "    .dataframe tbody tr th:only-of-type {\n",
       "        vertical-align: middle;\n",
       "    }\n",
       "\n",
       "    .dataframe tbody tr th {\n",
       "        vertical-align: top;\n",
       "    }\n",
       "\n",
       "    .dataframe thead th {\n",
       "        text-align: right;\n",
       "    }\n",
       "</style>\n",
       "<table border=\"1\" class=\"dataframe\">\n",
       "  <thead>\n",
       "    <tr style=\"text-align: right;\">\n",
       "      <th></th>\n",
       "      <th>Unnamed: 0</th>\n",
       "      <th>rating</th>\n",
       "      <th>review</th>\n",
       "    </tr>\n",
       "  </thead>\n",
       "  <tbody>\n",
       "    <tr>\n",
       "      <th>0</th>\n",
       "      <td>0</td>\n",
       "      <td>1</td>\n",
       "      <td>wireless gaming headset  gaming headset ticks ...</td>\n",
       "    </tr>\n",
       "    <tr>\n",
       "      <th>1</th>\n",
       "      <td>1</td>\n",
       "      <td>0</td>\n",
       "      <td>good big head low budget easy setup rated 6 ho...</td>\n",
       "    </tr>\n",
       "    <tr>\n",
       "      <th>2</th>\n",
       "      <td>2</td>\n",
       "      <td>1</td>\n",
       "      <td>mezumiwireless gaming headset originally bough...</td>\n",
       "    </tr>\n",
       "    <tr>\n",
       "      <th>3</th>\n",
       "      <td>3</td>\n",
       "      <td>1</td>\n",
       "      <td>hw s2 great headset 2nd mezumi headset kills f...</td>\n",
       "    </tr>\n",
       "    <tr>\n",
       "      <th>4</th>\n",
       "      <td>4</td>\n",
       "      <td>1</td>\n",
       "      <td>best headphones ive purchased entire life prob...</td>\n",
       "    </tr>\n",
       "  </tbody>\n",
       "</table>\n",
       "</div>"
      ],
      "text/plain": [
       "   Unnamed: 0  rating                                             review\n",
       "0           0       1  wireless gaming headset  gaming headset ticks ...\n",
       "1           1       0  good big head low budget easy setup rated 6 ho...\n",
       "2           2       1  mezumiwireless gaming headset originally bough...\n",
       "3           3       1  hw s2 great headset 2nd mezumi headset kills f...\n",
       "4           4       1  best headphones ive purchased entire life prob..."
      ]
     },
     "execution_count": 8,
     "metadata": {},
     "output_type": "execute_result"
    }
   ],
   "source": [
    "print(\"Primeros 5 valores de la base de datos Clean:\")\n",
    "datasetCleaned.head()\n"
   ]
  },
  {
   "cell_type": "code",
   "execution_count": 9,
   "metadata": {},
   "outputs": [
    {
     "name": "stdout",
     "output_type": "stream",
     "text": [
      "Dimensiones de la base de datos Ebay:\n",
      "(44756, 4)\n"
     ]
    }
   ],
   "source": [
    "print(\"Dimensiones de la base de datos Ebay:\")\n",
    "print(datasetEbay.shape)"
   ]
  },
  {
   "cell_type": "code",
   "execution_count": 10,
   "metadata": {},
   "outputs": [
    {
     "name": "stdout",
     "output_type": "stream",
     "text": [
      "Dimensiones de la base de datos Clean:\n",
      "(45752, 3)\n"
     ]
    }
   ],
   "source": [
    "print(\"Dimensiones de la base de datos Clean:\")\n",
    "print(datasetCleaned.shape)"
   ]
  },
  {
   "cell_type": "code",
   "execution_count": 11,
   "metadata": {},
   "outputs": [
    {
     "name": "stdout",
     "output_type": "stream",
     "text": [
      "Numero de valores null en Ebay:\n",
      "category          0\n",
      "review title      0\n",
      "review content    0\n",
      "rating            0\n",
      "dtype: int64\n"
     ]
    }
   ],
   "source": [
    "print(\"Numero de valores null en Ebay:\")\n",
    "print(datasetEbay.isnull().sum())"
   ]
  },
  {
   "cell_type": "code",
   "execution_count": 12,
   "metadata": {},
   "outputs": [
    {
     "name": "stdout",
     "output_type": "stream",
     "text": [
      "Numero de valores null en Clean:\n",
      "Unnamed: 0    0\n",
      "rating        0\n",
      "review        0\n",
      "dtype: int64\n"
     ]
    }
   ],
   "source": [
    "print(\"Numero de valores null en Clean:\")\n",
    "print(datasetCleaned.isnull().sum())"
   ]
  },
  {
   "cell_type": "code",
   "execution_count": 13,
   "metadata": {},
   "outputs": [
    {
     "name": "stdout",
     "output_type": "stream",
     "text": [
      "Estadisticas sobre los atributos de la base de datos Ebay:\n"
     ]
    },
    {
     "data": {
      "text/html": [
       "<div>\n",
       "<style scoped>\n",
       "    .dataframe tbody tr th:only-of-type {\n",
       "        vertical-align: middle;\n",
       "    }\n",
       "\n",
       "    .dataframe tbody tr th {\n",
       "        vertical-align: top;\n",
       "    }\n",
       "\n",
       "    .dataframe thead th {\n",
       "        text-align: right;\n",
       "    }\n",
       "</style>\n",
       "<table border=\"1\" class=\"dataframe\">\n",
       "  <thead>\n",
       "    <tr style=\"text-align: right;\">\n",
       "      <th></th>\n",
       "      <th>rating</th>\n",
       "    </tr>\n",
       "  </thead>\n",
       "  <tbody>\n",
       "    <tr>\n",
       "      <th>count</th>\n",
       "      <td>44756.000000</td>\n",
       "    </tr>\n",
       "    <tr>\n",
       "      <th>mean</th>\n",
       "      <td>4.656337</td>\n",
       "    </tr>\n",
       "    <tr>\n",
       "      <th>std</th>\n",
       "      <td>0.847600</td>\n",
       "    </tr>\n",
       "    <tr>\n",
       "      <th>min</th>\n",
       "      <td>1.000000</td>\n",
       "    </tr>\n",
       "    <tr>\n",
       "      <th>25%</th>\n",
       "      <td>5.000000</td>\n",
       "    </tr>\n",
       "    <tr>\n",
       "      <th>50%</th>\n",
       "      <td>5.000000</td>\n",
       "    </tr>\n",
       "    <tr>\n",
       "      <th>75%</th>\n",
       "      <td>5.000000</td>\n",
       "    </tr>\n",
       "    <tr>\n",
       "      <th>max</th>\n",
       "      <td>5.000000</td>\n",
       "    </tr>\n",
       "  </tbody>\n",
       "</table>\n",
       "</div>"
      ],
      "text/plain": [
       "             rating\n",
       "count  44756.000000\n",
       "mean       4.656337\n",
       "std        0.847600\n",
       "min        1.000000\n",
       "25%        5.000000\n",
       "50%        5.000000\n",
       "75%        5.000000\n",
       "max        5.000000"
      ]
     },
     "execution_count": 13,
     "metadata": {},
     "output_type": "execute_result"
    }
   ],
   "source": [
    "#Se Llama a la función describe para ver si hay inconsistencias en los datos\n",
    "print(\"Estadisticas sobre los atributos de la base de datos Ebay:\")\n",
    "datasetEbay.describe()"
   ]
  },
  {
   "cell_type": "markdown",
   "metadata": {},
   "source": [
    "#### No se detectan inconsistencias en las valoraciones de cada producto al ser el minimo de estrellas 1 y maximo 5"
   ]
  },
  {
   "cell_type": "code",
   "execution_count": 16,
   "metadata": {},
   "outputs": [
    {
     "name": "stdout",
     "output_type": "stream",
     "text": [
      "Estadisticas sobre los atributos de la base de datos Clean:\n"
     ]
    },
    {
     "data": {
      "text/html": [
       "<div>\n",
       "<style scoped>\n",
       "    .dataframe tbody tr th:only-of-type {\n",
       "        vertical-align: middle;\n",
       "    }\n",
       "\n",
       "    .dataframe tbody tr th {\n",
       "        vertical-align: top;\n",
       "    }\n",
       "\n",
       "    .dataframe thead th {\n",
       "        text-align: right;\n",
       "    }\n",
       "</style>\n",
       "<table border=\"1\" class=\"dataframe\">\n",
       "  <thead>\n",
       "    <tr style=\"text-align: right;\">\n",
       "      <th></th>\n",
       "      <th>Unnamed: 0</th>\n",
       "      <th>rating</th>\n",
       "    </tr>\n",
       "  </thead>\n",
       "  <tbody>\n",
       "    <tr>\n",
       "      <th>count</th>\n",
       "      <td>45752.000000</td>\n",
       "      <td>45752.000000</td>\n",
       "    </tr>\n",
       "    <tr>\n",
       "      <th>mean</th>\n",
       "      <td>22875.500000</td>\n",
       "      <td>0.879918</td>\n",
       "    </tr>\n",
       "    <tr>\n",
       "      <th>std</th>\n",
       "      <td>13207.609095</td>\n",
       "      <td>0.440717</td>\n",
       "    </tr>\n",
       "    <tr>\n",
       "      <th>min</th>\n",
       "      <td>0.000000</td>\n",
       "      <td>-1.000000</td>\n",
       "    </tr>\n",
       "    <tr>\n",
       "      <th>25%</th>\n",
       "      <td>11437.750000</td>\n",
       "      <td>1.000000</td>\n",
       "    </tr>\n",
       "    <tr>\n",
       "      <th>50%</th>\n",
       "      <td>22875.500000</td>\n",
       "      <td>1.000000</td>\n",
       "    </tr>\n",
       "    <tr>\n",
       "      <th>75%</th>\n",
       "      <td>34313.250000</td>\n",
       "      <td>1.000000</td>\n",
       "    </tr>\n",
       "    <tr>\n",
       "      <th>max</th>\n",
       "      <td>45751.000000</td>\n",
       "      <td>1.000000</td>\n",
       "    </tr>\n",
       "  </tbody>\n",
       "</table>\n",
       "</div>"
      ],
      "text/plain": [
       "         Unnamed: 0        rating\n",
       "count  45752.000000  45752.000000\n",
       "mean   22875.500000      0.879918\n",
       "std    13207.609095      0.440717\n",
       "min        0.000000     -1.000000\n",
       "25%    11437.750000      1.000000\n",
       "50%    22875.500000      1.000000\n",
       "75%    34313.250000      1.000000\n",
       "max    45751.000000      1.000000"
      ]
     },
     "execution_count": 16,
     "metadata": {},
     "output_type": "execute_result"
    }
   ],
   "source": [
    "#Se llama a la función describe para ver si hay inconsistencias en los datos\n",
    "print(\"Estadisticas sobre los atributos de la base de datos Clean:\")\n",
    "datasetCleaned.describe()"
   ]
  },
  {
   "cell_type": "code",
   "execution_count": 18,
   "metadata": {},
   "outputs": [
    {
     "name": "stdout",
     "output_type": "stream",
     "text": [
      "Muestras con Rating negativo (0 y 1 estrellas):\n"
     ]
    },
    {
     "data": {
      "text/html": [
       "<div>\n",
       "<style scoped>\n",
       "    .dataframe tbody tr th:only-of-type {\n",
       "        vertical-align: middle;\n",
       "    }\n",
       "\n",
       "    .dataframe tbody tr th {\n",
       "        vertical-align: top;\n",
       "    }\n",
       "\n",
       "    .dataframe thead th {\n",
       "        text-align: right;\n",
       "    }\n",
       "</style>\n",
       "<table border=\"1\" class=\"dataframe\">\n",
       "  <thead>\n",
       "    <tr style=\"text-align: right;\">\n",
       "      <th></th>\n",
       "      <th>Unnamed: 0</th>\n",
       "      <th>rating</th>\n",
       "      <th>review</th>\n",
       "    </tr>\n",
       "  </thead>\n",
       "  <tbody>\n",
       "    <tr>\n",
       "      <th>18</th>\n",
       "      <td>18</td>\n",
       "      <td>-1</td>\n",
       "      <td>not working asked return havent heard not working</td>\n",
       "    </tr>\n",
       "    <tr>\n",
       "      <th>22</th>\n",
       "      <td>22</td>\n",
       "      <td>-1</td>\n",
       "      <td>misleading wireless gaming headset doesn’t wor...</td>\n",
       "    </tr>\n",
       "    <tr>\n",
       "      <th>32</th>\n",
       "      <td>32</td>\n",
       "      <td>-1</td>\n",
       "      <td>bad shipping came original xbox controller box...</td>\n",
       "    </tr>\n",
       "    <tr>\n",
       "      <th>154</th>\n",
       "      <td>154</td>\n",
       "      <td>-1</td>\n",
       "      <td>terrible game don’t waste time lol</td>\n",
       "    </tr>\n",
       "    <tr>\n",
       "      <th>155</th>\n",
       "      <td>155</td>\n",
       "      <td>-1</td>\n",
       "      <td>bad story  not worth 60</td>\n",
       "    </tr>\n",
       "    <tr>\n",
       "      <th>157</th>\n",
       "      <td>157</td>\n",
       "      <td>-1</td>\n",
       "      <td>sucked verified purchase no</td>\n",
       "    </tr>\n",
       "    <tr>\n",
       "      <th>229</th>\n",
       "      <td>229</td>\n",
       "      <td>-1</td>\n",
       "      <td>great joystick fun unitl died within 2 weeks b...</td>\n",
       "    </tr>\n",
       "    <tr>\n",
       "      <th>266</th>\n",
       "      <td>266</td>\n",
       "      <td>-1</td>\n",
       "      <td>not working headphones working perfectly  thir...</td>\n",
       "    </tr>\n",
       "    <tr>\n",
       "      <th>467</th>\n",
       "      <td>467</td>\n",
       "      <td>-1</td>\n",
       "      <td>not buy unit crashed multiple times hardlocks ...</td>\n",
       "    </tr>\n",
       "    <tr>\n",
       "      <th>468</th>\n",
       "      <td>468</td>\n",
       "      <td>-1</td>\n",
       "      <td>sh price point i’m giving 1 star sole purpose ...</td>\n",
       "    </tr>\n",
       "    <tr>\n",
       "      <th>584</th>\n",
       "      <td>584</td>\n",
       "      <td>-1</td>\n",
       "      <td>no good playstation keeps blinking shut off i’...</td>\n",
       "    </tr>\n",
       "    <tr>\n",
       "      <th>592</th>\n",
       "      <td>592</td>\n",
       "      <td>-1</td>\n",
       "      <td>didnt work recieved bought ps4 stayed put til ...</td>\n",
       "    </tr>\n",
       "    <tr>\n",
       "      <th>703</th>\n",
       "      <td>703</td>\n",
       "      <td>-1</td>\n",
       "      <td>issues saving pictures videos camera needs sof...</td>\n",
       "    </tr>\n",
       "    <tr>\n",
       "      <th>741</th>\n",
       "      <td>741</td>\n",
       "      <td>-1</td>\n",
       "      <td>camera suppose parts camera suppose parts  ret...</td>\n",
       "    </tr>\n",
       "    <tr>\n",
       "      <th>769</th>\n",
       "      <td>769</td>\n",
       "      <td>-1</td>\n",
       "      <td>poor connect great image would not buy phone d...</td>\n",
       "    </tr>\n",
       "    <tr>\n",
       "      <th>785</th>\n",
       "      <td>785</td>\n",
       "      <td>-1</td>\n",
       "      <td>cumbersome difficult use better mounting facil...</td>\n",
       "    </tr>\n",
       "    <tr>\n",
       "      <th>817</th>\n",
       "      <td>817</td>\n",
       "      <td>-1</td>\n",
       "      <td>small expecting would little bit bigger way</td>\n",
       "    </tr>\n",
       "    <tr>\n",
       "      <th>833</th>\n",
       "      <td>833</td>\n",
       "      <td>-1</td>\n",
       "      <td>ps3 got boyfriend already not working right do...</td>\n",
       "    </tr>\n",
       "    <tr>\n",
       "      <th>837</th>\n",
       "      <td>837</td>\n",
       "      <td>-1</td>\n",
       "      <td>got ps3 found came faulty turned ps3 shut off ...</td>\n",
       "    </tr>\n",
       "    <tr>\n",
       "      <th>840</th>\n",
       "      <td>840</td>\n",
       "      <td>-1</td>\n",
       "      <td>broken purchased playstation 3 didnt work trie...</td>\n",
       "    </tr>\n",
       "    <tr>\n",
       "      <th>866</th>\n",
       "      <td>866</td>\n",
       "      <td>-1</td>\n",
       "      <td>one waste product bought bought product ebay e...</td>\n",
       "    </tr>\n",
       "    <tr>\n",
       "      <th>880</th>\n",
       "      <td>880</td>\n",
       "      <td>-1</td>\n",
       "      <td>blueray player very likely not work get xbox c...</td>\n",
       "    </tr>\n",
       "    <tr>\n",
       "      <th>899</th>\n",
       "      <td>899</td>\n",
       "      <td>-1</td>\n",
       "      <td>commodity not got verified purchase  yes  cond...</td>\n",
       "    </tr>\n",
       "    <tr>\n",
       "      <th>921</th>\n",
       "      <td>921</td>\n",
       "      <td>-1</td>\n",
       "      <td>controller controllerhavent able get controlle...</td>\n",
       "    </tr>\n",
       "    <tr>\n",
       "      <th>933</th>\n",
       "      <td>933</td>\n",
       "      <td>-1</td>\n",
       "      <td>great condition bad condition full dust scrachs</td>\n",
       "    </tr>\n",
       "    <tr>\n",
       "      <th>958</th>\n",
       "      <td>958</td>\n",
       "      <td>-1</td>\n",
       "      <td>terrible unfortunately unit overheats within c...</td>\n",
       "    </tr>\n",
       "    <tr>\n",
       "      <th>962</th>\n",
       "      <td>962</td>\n",
       "      <td>-1</td>\n",
       "      <td>question able all 3three controllers issueswhi...</td>\n",
       "    </tr>\n",
       "    <tr>\n",
       "      <th>974</th>\n",
       "      <td>974</td>\n",
       "      <td>-1</td>\n",
       "      <td>disappointing ps3 disk drive faulty providers ...</td>\n",
       "    </tr>\n",
       "    <tr>\n",
       "      <th>977</th>\n",
       "      <td>977</td>\n",
       "      <td>-1</td>\n",
       "      <td>good except controller received system remote ...</td>\n",
       "    </tr>\n",
       "    <tr>\n",
       "      <th>1017</th>\n",
       "      <td>1017</td>\n",
       "      <td>-1</td>\n",
       "      <td>wrong address bought hasnt shipped need change...</td>\n",
       "    </tr>\n",
       "    <tr>\n",
       "      <th>...</th>\n",
       "      <td>...</td>\n",
       "      <td>...</td>\n",
       "      <td>...</td>\n",
       "    </tr>\n",
       "    <tr>\n",
       "      <th>44772</th>\n",
       "      <td>44772</td>\n",
       "      <td>-1</td>\n",
       "      <td>card box plastic card obviously secondhand car...</td>\n",
       "    </tr>\n",
       "    <tr>\n",
       "      <th>44814</th>\n",
       "      <td>44814</td>\n",
       "      <td>-1</td>\n",
       "      <td>didnt work didnt play all made game console ma...</td>\n",
       "    </tr>\n",
       "    <tr>\n",
       "      <th>44949</th>\n",
       "      <td>44949</td>\n",
       "      <td>-1</td>\n",
       "      <td>skip worst game franchise plus series introduc...</td>\n",
       "    </tr>\n",
       "    <tr>\n",
       "      <th>44975</th>\n",
       "      <td>44975</td>\n",
       "      <td>-1</td>\n",
       "      <td>blank game birthday present grandson  day spec...</td>\n",
       "    </tr>\n",
       "    <tr>\n",
       "      <th>44991</th>\n",
       "      <td>44991</td>\n",
       "      <td>-1</td>\n",
       "      <td>2 10  game rubbish bad everything controls rep...</td>\n",
       "    </tr>\n",
       "    <tr>\n",
       "      <th>44999</th>\n",
       "      <td>44999</td>\n",
       "      <td>-1</td>\n",
       "      <td>horrible game game not play bunch scratches tr...</td>\n",
       "    </tr>\n",
       "    <tr>\n",
       "      <th>45034</th>\n",
       "      <td>45034</td>\n",
       "      <td>-1</td>\n",
       "      <td>game doesn’t play disappointed get game tons s...</td>\n",
       "    </tr>\n",
       "    <tr>\n",
       "      <th>45054</th>\n",
       "      <td>45054</td>\n",
       "      <td>-1</td>\n",
       "      <td>lot time seller needs real hard talk product f...</td>\n",
       "    </tr>\n",
       "    <tr>\n",
       "      <th>45106</th>\n",
       "      <td>45106</td>\n",
       "      <td>-1</td>\n",
       "      <td>disks easily damaged disks seem very easy dama...</td>\n",
       "    </tr>\n",
       "    <tr>\n",
       "      <th>45142</th>\n",
       "      <td>45142</td>\n",
       "      <td>-1</td>\n",
       "      <td>aint rogue leader irritate short any missions ...</td>\n",
       "    </tr>\n",
       "    <tr>\n",
       "      <th>45153</th>\n",
       "      <td>45153</td>\n",
       "      <td>-1</td>\n",
       "      <td>lied condition doesnt even work said new actua...</td>\n",
       "    </tr>\n",
       "    <tr>\n",
       "      <th>45235</th>\n",
       "      <td>45235</td>\n",
       "      <td>-1</td>\n",
       "      <td>dont work disappointed verified purchase  yes ...</td>\n",
       "    </tr>\n",
       "    <tr>\n",
       "      <th>45320</th>\n",
       "      <td>45320</td>\n",
       "      <td>-1</td>\n",
       "      <td>dont bought liked sword mana children mana big...</td>\n",
       "    </tr>\n",
       "    <tr>\n",
       "      <th>45370</th>\n",
       "      <td>45370</td>\n",
       "      <td>-1</td>\n",
       "      <td>little kid game game like little kids except o...</td>\n",
       "    </tr>\n",
       "    <tr>\n",
       "      <th>45387</th>\n",
       "      <td>45387</td>\n",
       "      <td>-1</td>\n",
       "      <td>game horrible save money  game horrible save m...</td>\n",
       "    </tr>\n",
       "    <tr>\n",
       "      <th>45453</th>\n",
       "      <td>45453</td>\n",
       "      <td>-1</td>\n",
       "      <td>game scratched hell works verified purchase  y...</td>\n",
       "    </tr>\n",
       "    <tr>\n",
       "      <th>45473</th>\n",
       "      <td>45473</td>\n",
       "      <td>-1</td>\n",
       "      <td>not game year edition addon content cost 1999 ...</td>\n",
       "    </tr>\n",
       "    <tr>\n",
       "      <th>45480</th>\n",
       "      <td>45480</td>\n",
       "      <td>-1</td>\n",
       "      <td>horrible buy hate person buys game expecting o...</td>\n",
       "    </tr>\n",
       "    <tr>\n",
       "      <th>45558</th>\n",
       "      <td>45558</td>\n",
       "      <td>-1</td>\n",
       "      <td>cut fit kia ev ordered mats lead believe would...</td>\n",
       "    </tr>\n",
       "    <tr>\n",
       "      <th>45576</th>\n",
       "      <td>45576</td>\n",
       "      <td>-1</td>\n",
       "      <td>not fit ordered christmas present son   put co...</td>\n",
       "    </tr>\n",
       "    <tr>\n",
       "      <th>45586</th>\n",
       "      <td>45586</td>\n",
       "      <td>-1</td>\n",
       "      <td>not happy ordered part 2020 chevy equinox supp...</td>\n",
       "    </tr>\n",
       "    <tr>\n",
       "      <th>45589</th>\n",
       "      <td>45589</td>\n",
       "      <td>-1</td>\n",
       "      <td>thin slice bologna receiving excited put truck...</td>\n",
       "    </tr>\n",
       "    <tr>\n",
       "      <th>45628</th>\n",
       "      <td>45628</td>\n",
       "      <td>-1</td>\n",
       "      <td>not fit descrption not fit listed vehicle desc...</td>\n",
       "    </tr>\n",
       "    <tr>\n",
       "      <th>45629</th>\n",
       "      <td>45629</td>\n",
       "      <td>-1</td>\n",
       "      <td>led not bright enough not work car</td>\n",
       "    </tr>\n",
       "    <tr>\n",
       "      <th>45693</th>\n",
       "      <td>45693</td>\n",
       "      <td>-1</td>\n",
       "      <td>didnt get item biught verified purchase  yes  ...</td>\n",
       "    </tr>\n",
       "    <tr>\n",
       "      <th>45694</th>\n",
       "      <td>45694</td>\n",
       "      <td>-1</td>\n",
       "      <td>avoid very cheap not rectangular appears photos</td>\n",
       "    </tr>\n",
       "    <tr>\n",
       "      <th>45706</th>\n",
       "      <td>45706</td>\n",
       "      <td>-1</td>\n",
       "      <td>waste money wall mountings end caps made cheap...</td>\n",
       "    </tr>\n",
       "    <tr>\n",
       "      <th>45728</th>\n",
       "      <td>45728</td>\n",
       "      <td>-1</td>\n",
       "      <td>not good listing very poor quality very disapp...</td>\n",
       "    </tr>\n",
       "    <tr>\n",
       "      <th>45732</th>\n",
       "      <td>45732</td>\n",
       "      <td>-1</td>\n",
       "      <td>bad description made cheap materials</td>\n",
       "    </tr>\n",
       "    <tr>\n",
       "      <th>45749</th>\n",
       "      <td>45749</td>\n",
       "      <td>-1</td>\n",
       "      <td>cheap looking cheap looking</td>\n",
       "    </tr>\n",
       "  </tbody>\n",
       "</table>\n",
       "<p>2026 rows × 3 columns</p>\n",
       "</div>"
      ],
      "text/plain": [
       "       Unnamed: 0  rating                                             review\n",
       "18             18      -1  not working asked return havent heard not working\n",
       "22             22      -1  misleading wireless gaming headset doesn’t wor...\n",
       "32             32      -1  bad shipping came original xbox controller box...\n",
       "154           154      -1                 terrible game don’t waste time lol\n",
       "155           155      -1                           bad story  not worth 60 \n",
       "157           157      -1                        sucked verified purchase no\n",
       "229           229      -1  great joystick fun unitl died within 2 weeks b...\n",
       "266           266      -1  not working headphones working perfectly  thir...\n",
       "467           467      -1  not buy unit crashed multiple times hardlocks ...\n",
       "468           468      -1  sh price point i’m giving 1 star sole purpose ...\n",
       "584           584      -1  no good playstation keeps blinking shut off i’...\n",
       "592           592      -1  didnt work recieved bought ps4 stayed put til ...\n",
       "703           703      -1  issues saving pictures videos camera needs sof...\n",
       "741           741      -1  camera suppose parts camera suppose parts  ret...\n",
       "769           769      -1  poor connect great image would not buy phone d...\n",
       "785           785      -1  cumbersome difficult use better mounting facil...\n",
       "817           817      -1        small expecting would little bit bigger way\n",
       "833           833      -1  ps3 got boyfriend already not working right do...\n",
       "837           837      -1  got ps3 found came faulty turned ps3 shut off ...\n",
       "840           840      -1  broken purchased playstation 3 didnt work trie...\n",
       "866           866      -1  one waste product bought bought product ebay e...\n",
       "880           880      -1  blueray player very likely not work get xbox c...\n",
       "899           899      -1  commodity not got verified purchase  yes  cond...\n",
       "921           921      -1  controller controllerhavent able get controlle...\n",
       "933           933      -1    great condition bad condition full dust scrachs\n",
       "958           958      -1  terrible unfortunately unit overheats within c...\n",
       "962           962      -1  question able all 3three controllers issueswhi...\n",
       "974           974      -1  disappointing ps3 disk drive faulty providers ...\n",
       "977           977      -1  good except controller received system remote ...\n",
       "1017         1017      -1  wrong address bought hasnt shipped need change...\n",
       "...           ...     ...                                                ...\n",
       "44772       44772      -1  card box plastic card obviously secondhand car...\n",
       "44814       44814      -1  didnt work didnt play all made game console ma...\n",
       "44949       44949      -1  skip worst game franchise plus series introduc...\n",
       "44975       44975      -1  blank game birthday present grandson  day spec...\n",
       "44991       44991      -1  2 10  game rubbish bad everything controls rep...\n",
       "44999       44999      -1  horrible game game not play bunch scratches tr...\n",
       "45034       45034      -1  game doesn’t play disappointed get game tons s...\n",
       "45054       45054      -1  lot time seller needs real hard talk product f...\n",
       "45106       45106      -1  disks easily damaged disks seem very easy dama...\n",
       "45142       45142      -1  aint rogue leader irritate short any missions ...\n",
       "45153       45153      -1  lied condition doesnt even work said new actua...\n",
       "45235       45235      -1  dont work disappointed verified purchase  yes ...\n",
       "45320       45320      -1  dont bought liked sword mana children mana big...\n",
       "45370       45370      -1  little kid game game like little kids except o...\n",
       "45387       45387      -1  game horrible save money  game horrible save m...\n",
       "45453       45453      -1  game scratched hell works verified purchase  y...\n",
       "45473       45473      -1  not game year edition addon content cost 1999 ...\n",
       "45480       45480      -1  horrible buy hate person buys game expecting o...\n",
       "45558       45558      -1  cut fit kia ev ordered mats lead believe would...\n",
       "45576       45576      -1  not fit ordered christmas present son   put co...\n",
       "45586       45586      -1  not happy ordered part 2020 chevy equinox supp...\n",
       "45589       45589      -1  thin slice bologna receiving excited put truck...\n",
       "45628       45628      -1  not fit descrption not fit listed vehicle desc...\n",
       "45629       45629      -1                 led not bright enough not work car\n",
       "45693       45693      -1  didnt get item biught verified purchase  yes  ...\n",
       "45694       45694      -1    avoid very cheap not rectangular appears photos\n",
       "45706       45706      -1  waste money wall mountings end caps made cheap...\n",
       "45728       45728      -1  not good listing very poor quality very disapp...\n",
       "45732       45732      -1               bad description made cheap materials\n",
       "45749       45749      -1                        cheap looking cheap looking\n",
       "\n",
       "[2026 rows x 3 columns]"
      ]
     },
     "execution_count": 18,
     "metadata": {},
     "output_type": "execute_result"
    }
   ],
   "source": [
    "#Cabe destacar que en este dataset se transofrman las valoraciones con objetivo de unificarlas, por lo tanto las muestras\n",
    "# negativas (-1) corresponden a valoraciones de 1 y 2 estrellas\n",
    "print(\"Muestras con Rating negativo (0 y 1 estrellas):\")\n",
    "datasetCleaned[datasetCleaned['rating'] < 0]"
   ]
  },
  {
   "cell_type": "markdown",
   "metadata": {},
   "source": [
    "#### Se procede a eliminar la columna que contiene los indices ya que no nos aporta información en el Dataset Cleaned"
   ]
  },
  {
   "cell_type": "code",
   "execution_count": 21,
   "metadata": {},
   "outputs": [],
   "source": [
    "datasetCleaned.drop(['Unnamed: 0'],axis=1, inplace=True)"
   ]
  },
  {
   "cell_type": "code",
   "execution_count": 22,
   "metadata": {},
   "outputs": [
    {
     "data": {
      "text/html": [
       "<div>\n",
       "<style scoped>\n",
       "    .dataframe tbody tr th:only-of-type {\n",
       "        vertical-align: middle;\n",
       "    }\n",
       "\n",
       "    .dataframe tbody tr th {\n",
       "        vertical-align: top;\n",
       "    }\n",
       "\n",
       "    .dataframe thead th {\n",
       "        text-align: right;\n",
       "    }\n",
       "</style>\n",
       "<table border=\"1\" class=\"dataframe\">\n",
       "  <thead>\n",
       "    <tr style=\"text-align: right;\">\n",
       "      <th></th>\n",
       "      <th>rating</th>\n",
       "      <th>review</th>\n",
       "    </tr>\n",
       "  </thead>\n",
       "  <tbody>\n",
       "    <tr>\n",
       "      <th>0</th>\n",
       "      <td>1</td>\n",
       "      <td>wireless gaming headset  gaming headset ticks ...</td>\n",
       "    </tr>\n",
       "    <tr>\n",
       "      <th>1</th>\n",
       "      <td>0</td>\n",
       "      <td>good big head low budget easy setup rated 6 ho...</td>\n",
       "    </tr>\n",
       "    <tr>\n",
       "      <th>2</th>\n",
       "      <td>1</td>\n",
       "      <td>mezumiwireless gaming headset originally bough...</td>\n",
       "    </tr>\n",
       "    <tr>\n",
       "      <th>3</th>\n",
       "      <td>1</td>\n",
       "      <td>hw s2 great headset 2nd mezumi headset kills f...</td>\n",
       "    </tr>\n",
       "    <tr>\n",
       "      <th>4</th>\n",
       "      <td>1</td>\n",
       "      <td>best headphones ive purchased entire life prob...</td>\n",
       "    </tr>\n",
       "  </tbody>\n",
       "</table>\n",
       "</div>"
      ],
      "text/plain": [
       "   rating                                             review\n",
       "0       1  wireless gaming headset  gaming headset ticks ...\n",
       "1       0  good big head low budget easy setup rated 6 ho...\n",
       "2       1  mezumiwireless gaming headset originally bough...\n",
       "3       1  hw s2 great headset 2nd mezumi headset kills f...\n",
       "4       1  best headphones ive purchased entire life prob..."
      ]
     },
     "execution_count": 22,
     "metadata": {},
     "output_type": "execute_result"
    }
   ],
   "source": [
    "datasetCleaned.head()"
   ]
  },
  {
   "cell_type": "markdown",
   "metadata": {},
   "source": [
    "### Analisis de cada atributo de la base de datos Ebay:"
   ]
  },
  {
   "cell_type": "markdown",
   "metadata": {},
   "source": [
    "#### Category: Categoria a la que pertenece un producto vendido (String)\n",
    "\n",
    "#### Review Title: Titulo de la reseña de un usuario (String)\n",
    "\n",
    "#### Review Content: Descripción (String) de la reseña de un usuario\n",
    "\n",
    "#### Rating: Valoracion en estrellas (del 1 al 5) de un usuario sobre un producto"
   ]
  },
  {
   "cell_type": "markdown",
   "metadata": {},
   "source": [
    "### Analisis de cada atributo de la base de datos Ebay Cleaned:\n"
   ]
  },
  {
   "cell_type": "markdown",
   "metadata": {},
   "source": [
    "\n",
    "#### Review : Descripción (String) de la reseña de un usuario\n",
    "\n",
    "#### Rating: Valoracion en estrellas (del -1 al 2) de un usuario sobre un producto, donde -1 engloba las valoraciones 1,2.                              0 corresponde a 3 estrellas, y 1 corresponde a 4 y 5 estrellas"
   ]
  },
  {
   "cell_type": "code",
   "execution_count": 25,
   "metadata": {},
   "outputs": [
    {
     "data": {
      "text/html": [
       "<div>\n",
       "<style scoped>\n",
       "    .dataframe tbody tr th:only-of-type {\n",
       "        vertical-align: middle;\n",
       "    }\n",
       "\n",
       "    .dataframe tbody tr th {\n",
       "        vertical-align: top;\n",
       "    }\n",
       "\n",
       "    .dataframe thead th {\n",
       "        text-align: right;\n",
       "    }\n",
       "</style>\n",
       "<table border=\"1\" class=\"dataframe\">\n",
       "  <thead>\n",
       "    <tr style=\"text-align: right;\">\n",
       "      <th></th>\n",
       "      <th>rating</th>\n",
       "    </tr>\n",
       "  </thead>\n",
       "  <tbody>\n",
       "    <tr>\n",
       "      <th>rating</th>\n",
       "      <td>1.0</td>\n",
       "    </tr>\n",
       "  </tbody>\n",
       "</table>\n",
       "</div>"
      ],
      "text/plain": [
       "        rating\n",
       "rating     1.0"
      ]
     },
     "execution_count": 25,
     "metadata": {},
     "output_type": "execute_result"
    }
   ],
   "source": [
    "#Relacion entre variables\n",
    "datasetEbay.corr()"
   ]
  },
  {
   "cell_type": "markdown",
   "metadata": {},
   "source": [
    "##### Como se puede observar no mas alla de rating como variable quantificable para extraer relaciones, por lo que se procede a quantificar las variables no numericas\n"
   ]
  },
  {
   "cell_type": "code",
   "execution_count": 27,
   "metadata": {},
   "outputs": [
    {
     "data": {
      "text/html": [
       "<div>\n",
       "<style scoped>\n",
       "    .dataframe tbody tr th:only-of-type {\n",
       "        vertical-align: middle;\n",
       "    }\n",
       "\n",
       "    .dataframe tbody tr th {\n",
       "        vertical-align: top;\n",
       "    }\n",
       "\n",
       "    .dataframe thead th {\n",
       "        text-align: right;\n",
       "    }\n",
       "</style>\n",
       "<table border=\"1\" class=\"dataframe\">\n",
       "  <thead>\n",
       "    <tr style=\"text-align: right;\">\n",
       "      <th></th>\n",
       "      <th>category</th>\n",
       "      <th>review title</th>\n",
       "      <th>review content</th>\n",
       "      <th>rating</th>\n",
       "    </tr>\n",
       "  </thead>\n",
       "  <tbody>\n",
       "    <tr>\n",
       "      <th>0</th>\n",
       "      <td>Headsets</td>\n",
       "      <td>Wireless gaming headset</td>\n",
       "      <td>This gaming headset ticks all the boxes # look...</td>\n",
       "      <td>5</td>\n",
       "    </tr>\n",
       "    <tr>\n",
       "      <th>1</th>\n",
       "      <td>Headsets</td>\n",
       "      <td>Good for those with a big head, low budget</td>\n",
       "      <td>Easy setup, rated for 6 hours battery but mine...</td>\n",
       "      <td>3</td>\n",
       "    </tr>\n",
       "    <tr>\n",
       "      <th>2</th>\n",
       "      <td>Headsets</td>\n",
       "      <td>MezumiWireless Gaming Headset</td>\n",
       "      <td>I originally bought this wireless headset for ...</td>\n",
       "      <td>5</td>\n",
       "    </tr>\n",
       "    <tr>\n",
       "      <th>3</th>\n",
       "      <td>Headsets</td>\n",
       "      <td>HW- S2 great headset.</td>\n",
       "      <td>This is my 2nd Mezumi headset, It kills the fi...</td>\n",
       "      <td>5</td>\n",
       "    </tr>\n",
       "    <tr>\n",
       "      <th>4</th>\n",
       "      <td>Headsets</td>\n",
       "      <td>BEST HEADPHONES I'VE PURCHASED IN MY ENTIRE LIFE</td>\n",
       "      <td>This is probably the best headset I've purchas...</td>\n",
       "      <td>5</td>\n",
       "    </tr>\n",
       "  </tbody>\n",
       "</table>\n",
       "</div>"
      ],
      "text/plain": [
       "   category                                      review title  \\\n",
       "0  Headsets                          Wireless gaming headset    \n",
       "1  Headsets        Good for those with a big head, low budget   \n",
       "2  Headsets                     MezumiWireless Gaming Headset   \n",
       "3  Headsets                             HW- S2 great headset.   \n",
       "4  Headsets  BEST HEADPHONES I'VE PURCHASED IN MY ENTIRE LIFE   \n",
       "\n",
       "                                      review content  rating  \n",
       "0  This gaming headset ticks all the boxes # look...       5  \n",
       "1  Easy setup, rated for 6 hours battery but mine...       3  \n",
       "2  I originally bought this wireless headset for ...       5  \n",
       "3  This is my 2nd Mezumi headset, It kills the fi...       5  \n",
       "4  This is probably the best headset I've purchas...       5  "
      ]
     },
     "execution_count": 27,
     "metadata": {},
     "output_type": "execute_result"
    }
   ],
   "source": [
    "datasetEbay.head()"
   ]
  },
  {
   "cell_type": "code",
   "execution_count": 29,
   "metadata": {},
   "outputs": [
    {
     "data": {
      "text/html": [
       "<div>\n",
       "<style scoped>\n",
       "    .dataframe tbody tr th:only-of-type {\n",
       "        vertical-align: middle;\n",
       "    }\n",
       "\n",
       "    .dataframe tbody tr th {\n",
       "        vertical-align: top;\n",
       "    }\n",
       "\n",
       "    .dataframe thead th {\n",
       "        text-align: right;\n",
       "    }\n",
       "</style>\n",
       "<table border=\"1\" class=\"dataframe\">\n",
       "  <thead>\n",
       "    <tr style=\"text-align: right;\">\n",
       "      <th></th>\n",
       "      <th>category</th>\n",
       "      <th>review title</th>\n",
       "      <th>review content</th>\n",
       "      <th>rating</th>\n",
       "    </tr>\n",
       "  </thead>\n",
       "  <tbody>\n",
       "    <tr>\n",
       "      <th>0</th>\n",
       "      <td>55</td>\n",
       "      <td>Wireless gaming headset</td>\n",
       "      <td>This gaming headset ticks all the boxes # look...</td>\n",
       "      <td>5</td>\n",
       "    </tr>\n",
       "    <tr>\n",
       "      <th>1</th>\n",
       "      <td>55</td>\n",
       "      <td>Good for those with a big head, low budget</td>\n",
       "      <td>Easy setup, rated for 6 hours battery but mine...</td>\n",
       "      <td>3</td>\n",
       "    </tr>\n",
       "    <tr>\n",
       "      <th>2</th>\n",
       "      <td>55</td>\n",
       "      <td>MezumiWireless Gaming Headset</td>\n",
       "      <td>I originally bought this wireless headset for ...</td>\n",
       "      <td>5</td>\n",
       "    </tr>\n",
       "    <tr>\n",
       "      <th>3</th>\n",
       "      <td>55</td>\n",
       "      <td>HW- S2 great headset.</td>\n",
       "      <td>This is my 2nd Mezumi headset, It kills the fi...</td>\n",
       "      <td>5</td>\n",
       "    </tr>\n",
       "    <tr>\n",
       "      <th>4</th>\n",
       "      <td>55</td>\n",
       "      <td>BEST HEADPHONES I'VE PURCHASED IN MY ENTIRE LIFE</td>\n",
       "      <td>This is probably the best headset I've purchas...</td>\n",
       "      <td>5</td>\n",
       "    </tr>\n",
       "  </tbody>\n",
       "</table>\n",
       "</div>"
      ],
      "text/plain": [
       "   category                                      review title  \\\n",
       "0        55                          Wireless gaming headset    \n",
       "1        55        Good for those with a big head, low budget   \n",
       "2        55                     MezumiWireless Gaming Headset   \n",
       "3        55                             HW- S2 great headset.   \n",
       "4        55  BEST HEADPHONES I'VE PURCHASED IN MY ENTIRE LIFE   \n",
       "\n",
       "                                      review content  rating  \n",
       "0  This gaming headset ticks all the boxes # look...       5  \n",
       "1  Easy setup, rated for 6 hours battery but mine...       3  \n",
       "2  I originally bought this wireless headset for ...       5  \n",
       "3  This is my 2nd Mezumi headset, It kills the fi...       5  \n",
       "4  This is probably the best headset I've purchas...       5  "
      ]
     },
     "execution_count": 29,
     "metadata": {},
     "output_type": "execute_result"
    }
   ],
   "source": [
    "labelencoder = preprocessing.LabelEncoder()\n",
    "datasetEbay['category'] = labelencoder.fit_transform(datasetEbay['category'])\n",
    "\n",
    "\n",
    "datasetEbay.head()"
   ]
  },
  {
   "cell_type": "code",
   "execution_count": 30,
   "metadata": {},
   "outputs": [
    {
     "data": {
      "text/plain": [
       "0         55\n",
       "1         55\n",
       "2         55\n",
       "3         55\n",
       "4         55\n",
       "5         55\n",
       "6         55\n",
       "7         55\n",
       "8         55\n",
       "9         55\n",
       "10        55\n",
       "11        55\n",
       "12        55\n",
       "13        55\n",
       "14        55\n",
       "15        55\n",
       "16        55\n",
       "17        55\n",
       "18        55\n",
       "19        55\n",
       "20        55\n",
       "21        55\n",
       "22        55\n",
       "23        55\n",
       "24        55\n",
       "25        33\n",
       "26        33\n",
       "27        33\n",
       "28        33\n",
       "29        33\n",
       "        ... \n",
       "44726    117\n",
       "44727    117\n",
       "44728    117\n",
       "44729    117\n",
       "44730    117\n",
       "44731    117\n",
       "44732    117\n",
       "44733    117\n",
       "44734    117\n",
       "44735    117\n",
       "44736    117\n",
       "44737    117\n",
       "44738    117\n",
       "44739    117\n",
       "44740    117\n",
       "44741    117\n",
       "44742    117\n",
       "44743    117\n",
       "44744    117\n",
       "44745    117\n",
       "44746    117\n",
       "44747    117\n",
       "44748    117\n",
       "44749    117\n",
       "44750    117\n",
       "44751    117\n",
       "44752    117\n",
       "44753    117\n",
       "44754    117\n",
       "44755    117\n",
       "Name: category, Length: 44756, dtype: int32"
      ]
     },
     "execution_count": 30,
     "metadata": {},
     "output_type": "execute_result"
    }
   ],
   "source": [
    "datasetEbay['category']"
   ]
  },
  {
   "cell_type": "code",
   "execution_count": 32,
   "metadata": {},
   "outputs": [
    {
     "data": {
      "text/html": [
       "<div>\n",
       "<style scoped>\n",
       "    .dataframe tbody tr th:only-of-type {\n",
       "        vertical-align: middle;\n",
       "    }\n",
       "\n",
       "    .dataframe tbody tr th {\n",
       "        vertical-align: top;\n",
       "    }\n",
       "\n",
       "    .dataframe thead th {\n",
       "        text-align: right;\n",
       "    }\n",
       "</style>\n",
       "<table border=\"1\" class=\"dataframe\">\n",
       "  <thead>\n",
       "    <tr style=\"text-align: right;\">\n",
       "      <th></th>\n",
       "      <th>category</th>\n",
       "      <th>review title</th>\n",
       "      <th>review content</th>\n",
       "      <th>rating</th>\n",
       "    </tr>\n",
       "  </thead>\n",
       "  <tbody>\n",
       "    <tr>\n",
       "      <th>0</th>\n",
       "      <td>55</td>\n",
       "      <td>27533</td>\n",
       "      <td>31371</td>\n",
       "      <td>5</td>\n",
       "    </tr>\n",
       "    <tr>\n",
       "      <th>1</th>\n",
       "      <td>55</td>\n",
       "      <td>9648</td>\n",
       "      <td>4637</td>\n",
       "      <td>3</td>\n",
       "    </tr>\n",
       "    <tr>\n",
       "      <th>2</th>\n",
       "      <td>55</td>\n",
       "      <td>18355</td>\n",
       "      <td>15636</td>\n",
       "      <td>5</td>\n",
       "    </tr>\n",
       "    <tr>\n",
       "      <th>3</th>\n",
       "      <td>55</td>\n",
       "      <td>14386</td>\n",
       "      <td>32168</td>\n",
       "      <td>5</td>\n",
       "    </tr>\n",
       "    <tr>\n",
       "      <th>4</th>\n",
       "      <td>55</td>\n",
       "      <td>2799</td>\n",
       "      <td>32393</td>\n",
       "      <td>5</td>\n",
       "    </tr>\n",
       "  </tbody>\n",
       "</table>\n",
       "</div>"
      ],
      "text/plain": [
       "   category  review title  review content  rating\n",
       "0        55         27533           31371       5\n",
       "1        55          9648            4637       3\n",
       "2        55         18355           15636       5\n",
       "3        55         14386           32168       5\n",
       "4        55          2799           32393       5"
      ]
     },
     "execution_count": 32,
     "metadata": {},
     "output_type": "execute_result"
    }
   ],
   "source": [
    "labelencoder = preprocessing.LabelEncoder()\n",
    "datasetEbay['review title'] = labelencoder.fit_transform(datasetEbay['review title'])\n",
    "\n",
    "datasetEbay['review content'] = labelencoder.fit_transform(datasetEbay['review content'])\n",
    "\n",
    "\n",
    "datasetEbay.head()"
   ]
  },
  {
   "cell_type": "markdown",
   "metadata": {},
   "source": [
    "La función LabelEncoder codifica etiquetas de una característica categórica en valores numéricos entre 0 y el número de clases menos 1.\n",
    "De manera que trasforma las etiquetas string segun su igualdad en numeros enteros"
   ]
  },
  {
   "cell_type": "markdown",
   "metadata": {},
   "source": [
    "#### Debido al resultado de codificar las variables en la base de datos de Ebay, se considera descartar el uso de la base de datos EbayCleaned, debido a la disparidad de correlacion entre la variable que ofrece la descripción de una reseña y el valor de la misma"
   ]
  },
  {
   "cell_type": "code",
   "execution_count": 34,
   "metadata": {},
   "outputs": [
    {
     "data": {
      "image/png": "[encoded data removed]",
      "text/plain": [
       "<Figure size 432x288 with 2 Axes>"
      ]
     },
     "metadata": {
      "needs_background": "light"
     },
     "output_type": "display_data"
    }
   ],
   "source": [
    "tablaCorrelaciones = datasetEbay.corr()\n",
    "plt.figure()\n",
    "\n",
    "ax = sns.heatmap(tablaCorrelaciones, annot=True, linewidths=.5)"
   ]
  },
  {
   "cell_type": "markdown",
   "metadata": {},
   "source": [
    "### Como era de esperar los atributos codificados guardan poca relacion entre si, por lo tanto vale la pena normalizarlos"
   ]
  },
  {
   "cell_type": "markdown",
   "metadata": {},
   "source": [
    "#### Previamente a la normalizacion, se establece como variable objetivo el Atributo Rating, ya que se considera mas interesante predecir las reseñas que un usuario puede aportar sobre un producto basandonos en la categoria.\n"
   ]
  },
  {
   "cell_type": "code",
   "execution_count": 36,
   "metadata": {},
   "outputs": [
    {
     "name": "stderr",
     "output_type": "stream",
     "text": [
      "C:\\Users\\adri-\\Anaconda3\\lib\\site-packages\\sklearn\\preprocessing\\data.py:323: DataConversionWarning: Data with input dtype int32, int64 were all converted to float64 by MinMaxScaler.\n",
      "  return self.partial_fit(X, y)\n"
     ]
    }
   ],
   "source": [
    "#Normalización de datos\n",
    "scaler = preprocessing.MinMaxScaler()\n",
    "scaler.fit(datasetEbay)\n",
    "datasetEbay = pd.DataFrame(scaler.transform(datasetEbay), index=datasetEbay.index, columns=datasetEbay.columns)"
   ]
  },
  {
   "cell_type": "code",
   "execution_count": 37,
   "metadata": {},
   "outputs": [
    {
     "data": {
      "text/html": [
       "<div>\n",
       "<style scoped>\n",
       "    .dataframe tbody tr th:only-of-type {\n",
       "        vertical-align: middle;\n",
       "    }\n",
       "\n",
       "    .dataframe tbody tr th {\n",
       "        vertical-align: top;\n",
       "    }\n",
       "\n",
       "    .dataframe thead th {\n",
       "        text-align: right;\n",
       "    }\n",
       "</style>\n",
       "<table border=\"1\" class=\"dataframe\">\n",
       "  <thead>\n",
       "    <tr style=\"text-align: right;\">\n",
       "      <th></th>\n",
       "      <th>category</th>\n",
       "      <th>review title</th>\n",
       "      <th>review content</th>\n",
       "      <th>rating</th>\n",
       "    </tr>\n",
       "  </thead>\n",
       "  <tbody>\n",
       "    <tr>\n",
       "      <th>0</th>\n",
       "      <td>0.341615</td>\n",
       "      <td>0.863131</td>\n",
       "      <td>0.741771</td>\n",
       "      <td>1.0</td>\n",
       "    </tr>\n",
       "    <tr>\n",
       "      <th>1</th>\n",
       "      <td>0.341615</td>\n",
       "      <td>0.302455</td>\n",
       "      <td>0.109642</td>\n",
       "      <td>0.5</td>\n",
       "    </tr>\n",
       "    <tr>\n",
       "      <th>2</th>\n",
       "      <td>0.341615</td>\n",
       "      <td>0.575410</td>\n",
       "      <td>0.369715</td>\n",
       "      <td>1.0</td>\n",
       "    </tr>\n",
       "    <tr>\n",
       "      <th>3</th>\n",
       "      <td>0.341615</td>\n",
       "      <td>0.450986</td>\n",
       "      <td>0.760617</td>\n",
       "      <td>1.0</td>\n",
       "    </tr>\n",
       "    <tr>\n",
       "      <th>4</th>\n",
       "      <td>0.341615</td>\n",
       "      <td>0.087746</td>\n",
       "      <td>0.765937</td>\n",
       "      <td>1.0</td>\n",
       "    </tr>\n",
       "  </tbody>\n",
       "</table>\n",
       "</div>"
      ],
      "text/plain": [
       "   category  review title  review content  rating\n",
       "0  0.341615      0.863131        0.741771     1.0\n",
       "1  0.341615      0.302455        0.109642     0.5\n",
       "2  0.341615      0.575410        0.369715     1.0\n",
       "3  0.341615      0.450986        0.760617     1.0\n",
       "4  0.341615      0.087746        0.765937     1.0"
      ]
     },
     "execution_count": 37,
     "metadata": {},
     "output_type": "execute_result"
    }
   ],
   "source": [
    "datasetEbay.head()"
   ]
  },
  {
   "cell_type": "code",
   "execution_count": 38,
   "metadata": {},
   "outputs": [
    {
     "data": {
      "image/png": "[encoded data removed]",
      "text/plain": [
       "<Figure size 432x288 with 2 Axes>"
      ]
     },
     "metadata": {
      "needs_background": "light"
     },
     "output_type": "display_data"
    }
   ],
   "source": [
    "tablaCorrelaciones = datasetEbay.corr()\n",
    "plt.figure()\n",
    "\n",
    "ax = sns.heatmap(tablaCorrelaciones, annot=True, linewidths=.5)"
   ]
  },
  {
   "cell_type": "markdown",
   "metadata": {},
   "source": [
    "A pesar de la normalizacion de datos seguimos obteniendo muy baja correlacion para el conjunto de atributos disponible devido a la disparidad y la poca relacion que estos guardan en el mundo real\n"
   ]
  },
  {
   "cell_type": "markdown",
   "metadata": {},
   "source": [
    "Notar que se ha realizado la normalizacion con MinMaxEscaler el cual transforma las características escalando cada una de ellas a un rango determinado,\n",
    "individualmente de manera que se encuentre en el rango dado en el conjunto de entrenamiento entre cero y uno."
   ]
  },
  {
   "cell_type": "markdown",
   "metadata": {},
   "source": [
    "#### Se considera que la eliminacion de outliers en este modelo no tiene sentido ya que las variables no son numericas y solo estamos codificando-las"
   ]
  },
  {
   "cell_type": "markdown",
   "metadata": {},
   "source": [
    "### Distribucion de los datos en forma grafica"
   ]
  },
  {
   "cell_type": "code",
   "execution_count": 43,
   "metadata": {},
   "outputs": [
    {
     "data": {
      "text/plain": [
       "<matplotlib.axes._subplots.AxesSubplot at 0x1305f485320>"
      ]
     },
     "execution_count": 43,
     "metadata": {},
     "output_type": "execute_result"
    },
    {
     "data": {
      "image/png": "[encoded data removed]",
      "text/plain": [
       "<Figure size 432x288 with 1 Axes>"
      ]
     },
     "metadata": {
      "needs_background": "light"
     },
     "output_type": "display_data"
    }
   ],
   "source": [
    "datasetEbay.plot(kind='scatter', x='category', y='rating', title='Relación category / rating')"
   ]
  },
  {
   "cell_type": "code",
   "execution_count": 44,
   "metadata": {},
   "outputs": [
    {
     "data": {
      "text/plain": [
       "<matplotlib.axes._subplots.AxesSubplot at 0x1305f4e8d68>"
      ]
     },
     "execution_count": 44,
     "metadata": {},
     "output_type": "execute_result"
    },
    {
     "data": {
      "image/png": "[encoded data removed]",
      "text/plain": [
       "<Figure size 432x288 with 1 Axes>"
      ]
     },
     "metadata": {
      "needs_background": "light"
     },
     "output_type": "display_data"
    }
   ],
   "source": [
    "datasetEbay.plot(kind='scatter', x='review title', y='rating', title='Relación review title / rating')"
   ]
  },
  {
   "cell_type": "code",
   "execution_count": 46,
   "metadata": {},
   "outputs": [
    {
     "data": {
      "text/plain": [
       "<matplotlib.axes._subplots.AxesSubplot at 0x1305de70470>"
      ]
     },
     "execution_count": 46,
     "metadata": {},
     "output_type": "execute_result"
    },
    {
     "data": {
      "image/png": "[encoded data removed]",
      "text/plain": [
       "<Figure size 432x288 with 1 Axes>"
      ]
     },
     "metadata": {
      "needs_background": "light"
     },
     "output_type": "display_data"
    }
   ],
   "source": [
    "datasetEbay.plot(kind='scatter', x='review content', y='rating', title='Relación review content / rating')"
   ]
  },
  {
   "cell_type": "markdown",
   "metadata": {},
   "source": [
    "Como se puede observar los valores no guardan ninguna correlacion entre si, debido que hay todo tipo de reseñas por cada categoria\n",
    "\n",
    "Ademas, es muy dificil crear un modelo en base a titulos y descripciones escritas por el usuario, por lo tanto se intentará predecir un rating a partir de la categoria de un producto, cosa que puede tener mas sentido y ademas son los atributos que guardan mas correlacion"
   ]
  },
  {
   "cell_type": "code",
   "execution_count": 49,
   "metadata": {},
   "outputs": [],
   "source": [
    "datasetEbay.drop(['review content', 'review title'],axis=1, inplace=True)"
   ]
  },
  {
   "cell_type": "code",
   "execution_count": 50,
   "metadata": {},
   "outputs": [
    {
     "data": {
      "text/html": [
       "<div>\n",
       "<style scoped>\n",
       "    .dataframe tbody tr th:only-of-type {\n",
       "        vertical-align: middle;\n",
       "    }\n",
       "\n",
       "    .dataframe tbody tr th {\n",
       "        vertical-align: top;\n",
       "    }\n",
       "\n",
       "    .dataframe thead th {\n",
       "        text-align: right;\n",
       "    }\n",
       "</style>\n",
       "<table border=\"1\" class=\"dataframe\">\n",
       "  <thead>\n",
       "    <tr style=\"text-align: right;\">\n",
       "      <th></th>\n",
       "      <th>category</th>\n",
       "      <th>rating</th>\n",
       "    </tr>\n",
       "  </thead>\n",
       "  <tbody>\n",
       "    <tr>\n",
       "      <th>0</th>\n",
       "      <td>0.341615</td>\n",
       "      <td>1.0</td>\n",
       "    </tr>\n",
       "    <tr>\n",
       "      <th>1</th>\n",
       "      <td>0.341615</td>\n",
       "      <td>0.5</td>\n",
       "    </tr>\n",
       "    <tr>\n",
       "      <th>2</th>\n",
       "      <td>0.341615</td>\n",
       "      <td>1.0</td>\n",
       "    </tr>\n",
       "    <tr>\n",
       "      <th>3</th>\n",
       "      <td>0.341615</td>\n",
       "      <td>1.0</td>\n",
       "    </tr>\n",
       "    <tr>\n",
       "      <th>4</th>\n",
       "      <td>0.341615</td>\n",
       "      <td>1.0</td>\n",
       "    </tr>\n",
       "  </tbody>\n",
       "</table>\n",
       "</div>"
      ],
      "text/plain": [
       "   category  rating\n",
       "0  0.341615     1.0\n",
       "1  0.341615     0.5\n",
       "2  0.341615     1.0\n",
       "3  0.341615     1.0\n",
       "4  0.341615     1.0"
      ]
     },
     "execution_count": 50,
     "metadata": {},
     "output_type": "execute_result"
    }
   ],
   "source": [
    "datasetEbay.head()"
   ]
  },
  {
   "cell_type": "code",
   "execution_count": 51,
   "metadata": {},
   "outputs": [
    {
     "data": {
      "image/png": "[encoded data removed]",
      "text/plain": [
       "<Figure size 432x288 with 1 Axes>"
      ]
     },
     "metadata": {
      "needs_background": "light"
     },
     "output_type": "display_data"
    }
   ],
   "source": [
    "plt.figure()\n",
    "variable = 'category'\n",
    "media = datasetEbay[variable].mean() \n",
    "sd = datasetEbay[variable].std() \n",
    "  \n",
    "plt.plot(datasetEbay[variable], scp.norm.pdf(datasetEbay[variable], media, sd)) \n",
    "plt.title(variable)\n",
    "plt.show() "
   ]
  },
  {
   "cell_type": "code",
   "execution_count": 52,
   "metadata": {},
   "outputs": [
    {
     "data": {
      "image/png": "[encoded data removed]",
      "text/plain": [
       "<Figure size 432x288 with 1 Axes>"
      ]
     },
     "metadata": {
      "needs_background": "light"
     },
     "output_type": "display_data"
    }
   ],
   "source": [
    "plt.figure()\n",
    "variable = 'rating'\n",
    "media = datasetEbay[variable].mean() \n",
    "sd = datasetEbay[variable].std() \n",
    "  \n",
    "plt.plot(datasetEbay[variable], scp.norm.pdf(datasetEbay[variable], media, sd)) \n",
    "plt.title(variable)\n",
    "plt.show()"
   ]
  },
  {
   "cell_type": "markdown",
   "metadata": {},
   "source": [
    "Al observar la distribución de los datos podemos observar que la variable category, si bien no responde a la defincion de distribucion gaussiana, por lo menos muestra los datos distribuidos de una forma proporcional, indicando que puede ser una correcta variable predictora"
   ]
  },
  {
   "cell_type": "markdown",
   "metadata": {},
   "source": [
    "### Aplicación de diferentes modelos"
   ]
  },
  {
   "cell_type": "code",
   "execution_count": null,
   "metadata": {},
   "outputs": [],
   "source": []
  },
  {
   "cell_type": "code",
   "execution_count": null,
   "metadata": {},
   "outputs": [],
   "source": []
  }
 ],
 "metadata": {
  "kernelspec": {
   "display_name": "Python 3",
   "language": "python",
   "name": "python3"
  },
  "language_info": {
   "codemirror_mode": {
    "name": "ipython",
    "version": 3
   },
   "file_extension": ".py",
   "mimetype": "text/x-python",
   "name": "python",
   "nbconvert_exporter": "python",
   "pygments_lexer": "ipython3",
   "version": "3.7.1"
  }
 },
 "nbformat": 4,
 "nbformat_minor": 2
}
